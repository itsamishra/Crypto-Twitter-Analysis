{
 "cells": [
  {
   "cell_type": "code",
   "execution_count": 2,
   "metadata": {
    "collapsed": true
   },
   "outputs": [],
   "source": [
    "import csv\n",
    "import pandas as pd\n",
    "import matplotlib.pyplot as plt\n",
    "import numpy as np\n",
    "import pickle\n",
    "%matplotlib inline\n",
    "plt.style.use('fivethirtyeight')"
   ]
  },
  {
   "cell_type": "code",
   "execution_count": 3,
   "metadata": {
    "collapsed": true
   },
   "outputs": [],
   "source": [
    "# Measures apathy towards Bitcoin Cash (0 to 1, 0=low apathy, 1=high apathy)\n",
    "def bchApathyIndex(name, df):\n",
    "    bitcoinCashsearch1 = \"bitcoincash\"\n",
    "    bitcoinCashsearch2 = \"bitcoin cash\"\n",
    "    bcashSearch3 = \"bcash\"\n",
    "    bitcoinCashCounter=0\n",
    "    bcashCounter=0\n",
    "    for i in df[\"text\"]:\n",
    "        if bitcoinCashsearch1 in i.lower():\n",
    "            bitcoinCashCounter+=1\n",
    "        elif bitcoinCashsearch2 in i.lower():\n",
    "            bitcoinCashCounter+=1\n",
    "        elif bcashSearch3 in i.lower():\n",
    "            bcashCounter+=1\n",
    "    \n",
    "    totalMentions = bcashCounter+bitcoinCashCounter\n",
    "    if totalMentions!=0:\n",
    "        index = bcashCounter/totalMentions\n",
    "    else:\n",
    "        index = None\n",
    "    return [name, totalMentions, index]"
   ]
  },
  {
   "cell_type": "code",
   "execution_count": 19,
   "metadata": {
    "scrolled": true
   },
   "outputs": [
    {
     "name": "stdout",
     "output_type": "stream",
     "text": [
      "49\n",
      "[0.041666666666666664, 0.047619047619047616, 0.052631578947368418, 0.054054054054054057, 0.066666666666666666, 0.095238095238095233, 0.10000000000000001, 0.10000000000000001, 0.14285714285714285, 0.14285714285714285, 0.15384615384615385, 0.15909090909090909, 0.17647058823529413, 0.17948717948717949, 0.18181818181818182, 0.19327731092436976, 0.21875, 0.22222222222222221, 0.25, 0.25, 0.29411764705882354, 0.32142857142857145, 0.33333333333333331, 0.33333333333333331, 0.33333333333333331, 0.33333333333333331, 0.35964912280701755, 0.375, 0.42857142857142855, 0.52173913043478259, 0.5714285714285714, 0.61904761904761907, 0.64444444444444449, 0.66666666666666663, 0.66666666666666663, 0.66666666666666663, 0.6875, 0.70129870129870131, 0.70930232558139539, 0.73333333333333328, 0.76000000000000001, 0.76190476190476186, 0.77551020408163263, 0.81481481481481477, 0.81521739130434778, 0.84782608695652173, 1.0, 1.0, 1.0]\n"
     ]
    },
    {
     "data": {
      "text/plain": [
       "'\\nfor i in range(len(BCAI)):\\n    if BCAI[\"Total Mentions\"][i]>400:\\n        print(BCAI[\"Name\"][i], BCAI[\"Score\"][i])\\n'"
      ]
     },
     "execution_count": 19,
     "metadata": {},
     "output_type": "execute_result"
    },
    {
     "data": {
      "image/png": "[encoded data removed]",
      "text/plain": [
       "<matplotlib.figure.Figure at 0x111e7aef0>"
      ]
     },
     "metadata": {},
     "output_type": "display_data"
    }
   ],
   "source": [
    "# Creates dataframe of Bitcoin Cash Apathy Index (BCAI)\n",
    "\n",
    "handleNameDict = pickle.load(open(\"handleNamePair.pickle\", \"rb\"))\n",
    "\n",
    "# Builds Bitcoin Cash Apathy Index (BCAI): [Name, number of btc/bch mentions, apathy index value (0 to 1)]\n",
    "BCAI = []\n",
    "for name in handleNameDict:\n",
    "    df = pd.read_csv(\"./Tweets/\"+str(handleNameDict[name])+\"_tweets.csv\")\n",
    "    userData = bchApathyIndex(name, df)\n",
    "    BCAI.append(userData)\n",
    "\n",
    "# Creates dataframe with columns: Name|Total Mentions (of bitcoin cash)|(BCAI) Score (0 to 1)\n",
    "BCAI = pd.DataFrame(BCAI)\n",
    "BCAI = BCAI.rename(columns={0:\"Name\", 1:\"Total Mentions\", 2:\"Score\"})\n",
    "\n",
    "# Plots \"Score vs Num. Mentions\"\n",
    "#plt.scatter(BCAI[\"Total Mentions\"], BCAI[\"Score\"])\n",
    "mentions = []\n",
    "score = []\n",
    "counter=0\n",
    "for i in range(len(BCAI[\"Score\"])):\n",
    "    if BCAI[\"Score\"][i]>0.01:\n",
    "        counter+=1\n",
    "        mentions.append(BCAI[\"Total Mentions\"][i])\n",
    "        score.append(BCAI[\"Score\"][i])\n",
    "plt.scatter(mentions, score)\n",
    "print(counter)\n",
    "print(sorted(score))\n",
    "'''\n",
    "for i in range(len(BCAI)):\n",
    "    if BCAI[\"Total Mentions\"][i]>400:\n",
    "        print(BCAI[\"Name\"][i], BCAI[\"Score\"][i])\n",
    "'''"
   ]
  },
  {
   "cell_type": "code",
   "execution_count": 22,
   "metadata": {
    "scrolled": true
   },
   "outputs": [
    {
     "name": "stdout",
     "output_type": "stream",
     "text": [
      "2x appeared 16 time(s) for Vitalik Buterin\n",
      "2x appeared 108 time(s) for Charlie Lee\n",
      "2x appeared 17 time(s) for Brian Armstrong\n",
      "2x appeared 9 time(s) for Roger Ver\n",
      "2x appeared 14 time(s) for Andreas M. Antonopoulos\n",
      "2x appeared 15 time(s) for Nick Szabo\n",
      "2x appeared 11 time(s) for Don Tapscott\n",
      "2x appeared 6 time(s) for Gavin Andresen\n",
      "2x appeared 8 time(s) for Jihan Wu\n",
      "2x appeared 45 time(s) for Laura Shin\n",
      "2x appeared 10 time(s) for Thomas Power\n",
      "2x appeared 98 time(s) for Erik Voorhees\n",
      "2x appeared 5 time(s) for Tyler Winklevoss\n",
      "2x appeared 50 time(s) for Barry Silbert\n",
      "2x appeared 102 time(s) for Tuur Demeester\n",
      "2x appeared 72 time(s) for Vinny Lingham\n",
      "2x appeared 61 time(s) for Charlie Shrem\n",
      "2x appeared 104 time(s) for Peter Todd\n",
      "2x appeared 232 time(s) for Adam Back\n",
      "2x appeared 82 time(s) for Tone Vays\n",
      "2x appeared 64 time(s) for Jameson Lopp\n",
      "2x appeared 7 time(s) for Tim Draper\n",
      "2x appeared 159 time(s) for Jeff Garzik\n",
      "2x appeared 21 time(s) for Bobby Lee\n",
      "2x appeared 10 time(s) for Fred Wilson\n",
      "2x appeared 6 time(s) for Naval Ravikant\n",
      "2x appeared 10 time(s) for Michael Arrington\n",
      "2x appeared 19 time(s) for Jon Matonis\n",
      "2x appeared 7 time(s) for Stephan Tual\n",
      "2x appeared 66 time(s) for Jimmy Song\n",
      "2x appeared 31 time(s) for Chris Burniske\n",
      "2x appeared 26 time(s) for Derin Cag\n",
      "2x appeared 4 time(s) for Fred Ehrsam\n",
      "2x appeared 31 time(s) for Luke Martin\n",
      "2x appeared 10 time(s) for Dinis Guarda\n",
      "2x appeared 10 time(s) for Michael Kitces\n",
      "2x appeared 19 time(s) for Josh Olszewicz\n",
      "2x appeared 0 time(s) for Joseph Lubin \n",
      "2x appeared 28 time(s) for Ari Paul\n",
      "2x appeared 95 time(s) for Ryan Selkis\n",
      "2x appeared 2 time(s) for Joey Zhou\n",
      "2x appeared 9 time(s) for Brock Pierce\n",
      "2x appeared 36 time(s) for Spencer Bogart\n",
      "2x appeared 0 time(s) for  Michael Novogratz\n",
      "2x appeared 0 time(s) for Da Hongfei\n",
      "2x appeared 13 time(s) for Willy Woo\n",
      "2x appeared 1 time(s) for Gav Wood\n",
      "2x appeared 9 time(s) for Nicolas Cary\n",
      "2x appeared 116 time(s) for Eric Lombrozo\n",
      "2x appeared 14 time(s) for Vlad Zamfir\n",
      "2x appeared 1 time(s) for Brad Garlinghouse\n",
      "2x appeared 12 time(s) for Elizabeth Stark\n",
      "2x appeared 10 time(s) for Preethi Kasireddy\n",
      "2x appeared 122 time(s) for Kyle Torpey\n",
      "2x appeared 5 time(s) for Charles Hoskinson\n",
      "2x appeared 5 time(s) for Vinay Gupta\n",
      "2x appeared 12 time(s) for Meltem Demirors\n",
      "2x appeared 6 time(s) for Andrew DeSantis\n",
      "2x appeared 25 time(s) for Marek Palatinus\n",
      "2x appeared 24 time(s) for Michael Parsons\n",
      "2x appeared 17 time(s) for Sunny Ray\n",
      "2x appeared 46 time(s) for Anondran\n",
      "2x appeared 9 time(s) for Alexander Tapscott\n",
      "2x appeared 10 time(s) for William Mougayar\n",
      "2x appeared 11 time(s) for Dr. Craig S. Wright \n",
      "2x appeared 71 time(s) for Ryan X Charles\n",
      "2x appeared 3 time(s) for Kris Marszalek\n",
      "2x appeared 43 time(s) for Jackson Palmer\n",
      "2x appeared 90 time(s) for Chris Ellis\n",
      "2x appeared 26 time(s) for Alan Silbert\n",
      "2x appeared 4 time(s) for Dan Morehead\n",
      "2x appeared 4 time(s) for Muneeb Ali\n",
      "2x appeared 2 time(s) for Nejc Kodrič\n",
      "2x appeared 15 time(s) for Michel Bauwens\n",
      "2x appeared 115 time(s) for Francis Pouliot\n",
      "2x appeared 8 time(s) for Peter Smith\n",
      "2x appeared 67 time(s) for Oleg Andreev\n",
      "2x appeared 9 time(s) for Elaine Ou\n",
      "2x appeared 26 time(s) for Ran Neu-Ner\n",
      "2x appeared 12 time(s) for Susanne Chishti\n",
      "2x appeared 28 time(s) for Jonas Schnelli\n",
      "2x appeared 42 time(s) for Pierre Rochard\n",
      "2x appeared 4 time(s) for Linda Xie\n",
      "2x appeared 7 time(s) for Juan Benet\n",
      "2x appeared 3 time(s) for Chris Larsen\n",
      "2x appeared 4 time(s) for Stephen Pair\n",
      "2x appeared 26 time(s) for Joseph Young\n",
      "2x appeared 13 time(s) for Preston Byrne\n",
      "2x appeared 43 time(s) for Ben Davenport\n",
      "2x appeared 9 time(s) for Arianna Simpson\n",
      "2x appeared 17 time(s) for Tai Zen\n",
      "2x appeared 3 time(s) for Alex Sunnarborg\n",
      "2x appeared 22 time(s) for Tony Gallippi\n",
      "2x appeared 160 time(s) for Ansel Lindner\n",
      "2x appeared 24 time(s) for Diego Gutierrez\n",
      "2x appeared 6 time(s) for Ned Scott\n",
      "2x appeared 30 time(s) for Wong Joon Ian\n",
      "2x appeared 3 time(s) for Olaoluwa Osuntokun\n",
      "2x appeared 19 time(s) for Oscar Williams-Grut\n",
      "2x appeared 13 time(s) for Chris DeRose\n"
     ]
    }
   ],
   "source": [
    "def searchTweets(keyword, name, df):\n",
    "    counter = 0\n",
    "    for i in df[\"text\"]:\n",
    "        if keyword in i.lower():\n",
    "            counter+=1\n",
    "\n",
    "    print(str(keyword) + \" appeared \" + str(counter) + \" time(s) for \" + str(name))\n",
    "\n",
    "handleNameDict = pickle.load(open(\"handleNamePair.pickle\", \"rb\"))\n",
    "for name in handleNameDict:\n",
    "    df = pd.read_csv(\"./Tweets/\"+str(handleNameDict[name])+\"_tweets.csv\")\n",
    "    searchTweets(\"2x\", name, df)"
   ]
  },
  {
   "cell_type": "code",
   "execution_count": null,
   "metadata": {
    "collapsed": true
   },
   "outputs": [],
   "source": []
  }
 ],
 "metadata": {
  "kernelspec": {
   "display_name": "Python 3",
   "language": "python",
   "name": "python3"
  },
  "language_info": {
   "codemirror_mode": {
    "name": "ipython",
    "version": 3
   },
   "file_extension": ".py",
   "mimetype": "text/x-python",
   "name": "python",
   "nbconvert_exporter": "python",
   "pygments_lexer": "ipython3",
   "version": "3.6.2"
  }
 },
 "nbformat": 4,
 "nbformat_minor": 2
}
