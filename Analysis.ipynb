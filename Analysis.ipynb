{
 "cells": [
  {
   "cell_type": "code",
   "execution_count": 170,
   "metadata": {},
   "outputs": [],
   "source": [
    "import csv\n",
    "import pandas as pd\n",
    "import matplotlib.pyplot as plt\n",
    "import numpy as np\n",
    "import nltk"
   ]
  },
  {
   "cell_type": "code",
   "execution_count": 171,
   "metadata": {
    "collapsed": true
   },
   "outputs": [],
   "source": [
    "df = pd.read_csv(\"brian_armstrong_tweets.csv\")"
   ]
  },
  {
   "cell_type": "code",
   "execution_count": 172,
   "metadata": {},
   "outputs": [
    {
     "name": "stdout",
     "output_type": "stream",
     "text": [
      "Number of full tweets: 2575\n"
     ]
    }
   ],
   "source": [
    "# Gets number of tweets that don't contain \"…\" character (i.e. # of tweets that are not cut off)\n",
    "counter = 0\n",
    "noEllipsis = []\n",
    "for i in df[\"text\"]:\n",
    "    if \"…\" in i:\n",
    "        counter+=1\n",
    "    else:\n",
    "        noEllipsis.append(i)\n",
    "print(\"Number of full tweets: \"+str(len(df[\"text\"])-counter))"
   ]
  },
  {
   "cell_type": "code",
   "execution_count": 173,
   "metadata": {},
   "outputs": [
    {
     "data": {
      "text/plain": [
       "'Awesome writeup on longevity research by @LauraDeming https://t.co/juaX86tIwS'"
      ]
     },
     "execution_count": 173,
     "metadata": {},
     "output_type": "execute_result"
    }
   ],
   "source": [
    "df[\"text\"][0]"
   ]
  },
  {
   "cell_type": "code",
   "execution_count": 174,
   "metadata": {
    "scrolled": true
   },
   "outputs": [
    {
     "name": "stdout",
     "output_type": "stream",
     "text": [
      "RT @AsiffHirji: Pleased to announce Bitcoin Cash on the platform https://t.co/aww9VZnsIT\n",
      "=====================================\n",
      "RT @coinbase: Buy, sell, send and receive Bitcoin Cash on Coinbase https://t.co/lL3FPEzBrJ\n",
      "=====================================\n",
      "RT @benjennin_gs: Bitcoin Cash just stole the #2 spot from Ethereum for market cap.\n",
      "=====================================\n",
      "RT @GDAX: Update on Bitcoin Cash for @GDAX customers\n",
      "https://t.co/O5sO2BNth1\n",
      "=====================================\n",
      "Wanted to shared a few thoughts on Bitcoin Cash! Thx. https://t.co/Sfr3GvDZqp\n",
      "=====================================\n"
     ]
    }
   ],
   "source": [
    "for i in noEllipsis:\n",
    "    if \"bitcoin cash\" in i.lower():\n",
    "        print(i)\n",
    "        print(\"=====================================\")"
   ]
  },
  {
   "cell_type": "code",
   "execution_count": 175,
   "metadata": {},
   "outputs": [
    {
     "name": "stdout",
     "output_type": "stream",
     "text": [
      "bcash:BitcoinCash ratio: 0.0\n",
      "Total Mentions: 8\n"
     ]
    }
   ],
   "source": [
    "# Measures apathy towards Bitcoin Cash\n",
    "search1 = \"bitcoincash\"\n",
    "search2 = \"bitcoin cash\"\n",
    "search3 = \"bcash\"\n",
    "counter1=0\n",
    "counter2=0\n",
    "for i in df[\"text\"]:\n",
    "    if search1 in i.lower():\n",
    "        counter1+=1\n",
    "        #print(i)\n",
    "        #print(\"=====================================\")\n",
    "    elif search2 in i.lower():\n",
    "        counter1+=1\n",
    "        #print(i)\n",
    "        #print(\"=====================================\")\n",
    "    elif search3 in i.lower():\n",
    "        counter2+=1\n",
    "        #print(i)\n",
    "        #print(\"=====================================\")\n",
    "        \n",
    "print(\"bcash:BitcoinCash ratio:\", counter2/counter1)\n",
    "print(\"Total Mentions:\", counter1+counter2)"
   ]
  },
  {
   "cell_type": "code",
   "execution_count": 176,
   "metadata": {
    "collapsed": true
   },
   "outputs": [],
   "source": [
    "lopp: 0.42592592592592593"
   ]
  }
 ],
 "metadata": {
  "kernelspec": {
   "display_name": "Python 3",
   "language": "python",
   "name": "python3"
  },
  "language_info": {
   "codemirror_mode": {
    "name": "ipython",
    "version": 3
   },
   "file_extension": ".py",
   "mimetype": "text/x-python",
   "name": "python",
   "nbconvert_exporter": "python",
   "pygments_lexer": "ipython3",
   "version": "3.6.2"
  }
 },
 "nbformat": 4,
 "nbformat_minor": 2
}
