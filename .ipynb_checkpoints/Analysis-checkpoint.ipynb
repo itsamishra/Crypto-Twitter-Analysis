{
 "cells": [
  {
   "cell_type": "code",
   "execution_count": 1,
   "metadata": {
    "collapsed": true
   },
   "outputs": [],
   "source": [
    "from helperScripts import *\n",
    "import csv\n",
    "import pandas as pd\n",
    "import matplotlib.pyplot as plt\n",
    "import numpy as np\n",
    "import pickle\n",
    "%matplotlib inline\n",
    "plt.style.use('fivethirtyeight')"
   ]
  },
  {
   "cell_type": "code",
   "execution_count": 2,
   "metadata": {
    "collapsed": true,
    "scrolled": true
   },
   "outputs": [],
   "source": [
    "# Creates a datframe with |Name|Twitter Handle|Path To Tweets| columns\n",
    "\n",
    "handleNameDict = pickle.load(open(\"handleNamePair.pickle\", \"rb\"))\n",
    "arrayRep = np.array(list(handleNameDict.items()))\n",
    "df = pd.DataFrame(arrayRep)\n",
    "df = df.rename(columns={0:\"Name\", 1:\"Twitter Handle\"})\n",
    "\n",
    "pathToTweets = []\n",
    "for person in np.array(df[\"Twitter Handle\"]):\n",
    "    pathToTweets.append(\"./Tweets/\"+str(person)+\"_tweets.csv\")\n",
    "\n",
    "df[\"Path To Tweets\"] = pathToTweets"
   ]
  },
  {
   "cell_type": "code",
   "execution_count": 4,
   "metadata": {
    "collapsed": true
   },
   "outputs": [],
   "source": [
    "# Adds |BCAI|BCH Mentions| columns to dataframe\n",
    "\n",
    "bchData = []\n",
    "for i in df.iterrows():\n",
    "    temp = pd.read_csv(i[1][2])\n",
    "    bchData.append(bchApathyIndex(temp))\n",
    "\n",
    "indexValue = []\n",
    "bchMentions = []\n",
    "for d in bchData:\n",
    "    indexValue.append(d[0])\n",
    "    bchMentions.append(d[1])\n",
    "\n",
    "df[\"BCAI\"] = indexValue\n",
    "df[\"BCH Mentions\"] = bchMentions"
   ]
  },
  {
   "cell_type": "code",
   "execution_count": 6,
   "metadata": {},
   "outputs": [
    {
     "data": {
      "text/plain": [
       "'\\nmentionsByOthers = []\\nfor i in df.iterrows():\\n    handle = \"@\"+str(i[1][\"Twitter Handle\"])\\n    #print(i[1][\"Name\"])\\n    mentionsByOthers.append(sum(np.array(searchTweets(df, handle))))\\nprint(mentionsByOthers)\\n'"
      ]
     },
     "execution_count": 6,
     "metadata": {},
     "output_type": "execute_result"
    }
   ],
   "source": [
    "'''\n",
    "# Creates a dictionary that contains {Name:[The number of times each person's tweets have included Name's handle]}\n",
    "mentionsByOthers = {}\n",
    "for i in df.iterrows():\n",
    "    handle = \"@\"+str(i[1][\"Twitter Handle\"])\n",
    "    mentionsByOthers[i[1][\"Name\"]] = np.array(searchTweets(df, handle))\n",
    "print(mentionsByOthers)\n",
    "'''"
   ]
  },
  {
   "cell_type": "code",
   "execution_count": null,
   "metadata": {
    "collapsed": true
   },
   "outputs": [],
   "source": []
  }
 ],
 "metadata": {
  "kernelspec": {
   "display_name": "Python 3",
   "language": "python",
   "name": "python3"
  },
  "language_info": {
   "codemirror_mode": {
    "name": "ipython",
    "version": 3
   },
   "file_extension": ".py",
   "mimetype": "text/x-python",
   "name": "python",
   "nbconvert_exporter": "python",
   "pygments_lexer": "ipython3",
   "version": "3.5.2"
  }
 },
 "nbformat": 4,
 "nbformat_minor": 2
}
