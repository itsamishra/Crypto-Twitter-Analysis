{
 "cells": [
  {
   "cell_type": "code",
   "execution_count": 85,
   "metadata": {},
   "outputs": [],
   "source": [
    "import csv\n",
    "import pandas as pd\n",
    "import matplotlib.pyplot as plt\n",
    "import numpy as np\n",
    "import pickle\n",
    "%matplotlib inline"
   ]
  },
  {
   "cell_type": "code",
   "execution_count": 72,
   "metadata": {},
   "outputs": [],
   "source": [
    "# Measures apathy towards Bitcoin Cash (0 to 1, 0=low apathy, 1=high apathy)\n",
    "def bchApathyIndex(name, df):\n",
    "    bitcoinCashsearch1 = \"bitcoincash\"\n",
    "    bitcoinCashsearch2 = \"bitcoin cash\"\n",
    "    bcashSearch3 = \"bcash\"\n",
    "    bitcoinCashCounter=0\n",
    "    bcashCounter=0\n",
    "    for i in df[\"text\"]:\n",
    "        if bitcoinCashsearch1 in i.lower():\n",
    "            bitcoinCashCounter+=1\n",
    "        elif bitcoinCashsearch2 in i.lower():\n",
    "            bitcoinCashCounter+=1\n",
    "        elif bcashSearch3 in i.lower():\n",
    "            bcashCounter+=1\n",
    "    \n",
    "    totalMentions = bcashCounter+bitcoinCashCounter\n",
    "    if totalMentions!=0:\n",
    "        index = bcashCounter/totalMentions\n",
    "    else:\n",
    "        index = None\n",
    "    return [name, totalMentions, index]"
   ]
  },
  {
   "cell_type": "code",
   "execution_count": 73,
   "metadata": {},
   "outputs": [],
   "source": [
    "handleNameDict = pickle.load(open(\"handleNamePair.pickle\", \"rb\"))\n",
    "\n",
    "# Builds Bitcoin Cash Apathy Index (BCAI): [Name, number of btc/bch mentions, apathy index value (0 to 1)]\n",
    "BCAI = []\n",
    "\n",
    "counter=0\n",
    "for name in handleNameDict:\n",
    "    df = pd.read_csv(\"./Tweets/\"+str(handleNameDict[name])+\"_tweets.csv\")\n",
    "    userData = bchApathyIndex(name, df)\n",
    "    BCAI.append(userData)"
   ]
  },
  {
   "cell_type": "code",
   "execution_count": 83,
   "metadata": {},
   "outputs": [
    {
     "name": "stdout",
     "output_type": "stream",
     "text": [
      "0.6190476190476191\n",
      "0.0\n",
      "0.0\n",
      "0.09523809523809523\n",
      "0.5217391304347826\n",
      "0.1\n",
      "0.5714285714285714\n",
      "0.7755102040816326\n",
      "0.6444444444444445\n",
      "0.7093023255813954\n",
      "0.7012987012987013\n",
      "0.041666666666666664\n",
      "0.2222222222222222\n",
      "0.1590909090909091\n",
      "1.0\n",
      "0.7619047619047619\n",
      "0.21875\n",
      "0.35964912280701755\n",
      "0.1794871794871795\n",
      "0.05405405405405406\n",
      "0.19327731092436976\n",
      "0.0044742729306487695\n",
      "0.18181818181818182\n",
      "0.76\n",
      "0.8152173913043478\n",
      "0.32142857142857145\n",
      "0.8148148148148148\n",
      "0.7333333333333333\n",
      "0.047619047619047616\n",
      "0.8478260869565217\n",
      "Mean: 0.12454643018917891\n"
     ]
    }
   ],
   "source": [
    "total=0\n",
    "for i in BCAI:\n",
    "    if i[1]>20:\n",
    "        print(i[2])\n",
    "        total+=i[2]\n",
    "print(\"Mean:\", total/100)"
   ]
  },
  {
   "cell_type": "code",
   "execution_count": null,
   "metadata": {
    "collapsed": true
   },
   "outputs": [],
   "source": []
  }
 ],
 "metadata": {
  "kernelspec": {
   "display_name": "Python 3",
   "language": "python",
   "name": "python3"
  },
  "language_info": {
   "codemirror_mode": {
    "name": "ipython",
    "version": 3
   },
   "file_extension": ".py",
   "mimetype": "text/x-python",
   "name": "python",
   "nbconvert_exporter": "python",
   "pygments_lexer": "ipython3",
   "version": "3.6.2"
  }
 },
 "nbformat": 4,
 "nbformat_minor": 2
}
