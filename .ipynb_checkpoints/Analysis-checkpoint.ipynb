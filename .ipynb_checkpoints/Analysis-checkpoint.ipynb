{
 "cells": [
  {
   "cell_type": "code",
   "execution_count": 190,
   "metadata": {},
   "outputs": [],
   "source": [
    "import csv\n",
    "import pandas as pd\n",
    "import matplotlib.pyplot as plt\n",
    "import numpy as np\n",
    "import pickle\n",
    "%matplotlib inline\n",
    "plt.style.use('fivethirtyeight')"
   ]
  },
  {
   "cell_type": "code",
   "execution_count": 191,
   "metadata": {},
   "outputs": [],
   "source": [
    "# Measures apathy towards Bitcoin Cash (0 to 1, 0=low apathy, 1=high apathy)\n",
    "def bchApathyIndex(name, df):\n",
    "    bitcoinCashsearch1 = \"bitcoincash\"\n",
    "    bitcoinCashsearch2 = \"bitcoin cash\"\n",
    "    bcashSearch3 = \"bcash\"\n",
    "    bitcoinCashCounter=0\n",
    "    bcashCounter=0\n",
    "    for i in df[\"text\"]:\n",
    "        if bitcoinCashsearch1 in i.lower():\n",
    "            bitcoinCashCounter+=1\n",
    "        elif bitcoinCashsearch2 in i.lower():\n",
    "            bitcoinCashCounter+=1\n",
    "        elif bcashSearch3 in i.lower():\n",
    "            bcashCounter+=1\n",
    "    \n",
    "    totalMentions = bcashCounter+bitcoinCashCounter\n",
    "    if totalMentions!=0:\n",
    "        index = bcashCounter/totalMentions\n",
    "    else:\n",
    "        index = None\n",
    "    return [name, totalMentions, index]"
   ]
  },
  {
   "cell_type": "code",
   "execution_count": 192,
   "metadata": {},
   "outputs": [
    {
     "data": {
      "text/plain": [
       "<matplotlib.collections.PathCollection at 0x1185ca160>"
      ]
     },
     "execution_count": 192,
     "metadata": {},
     "output_type": "execute_result"
    },
    {
     "data": {
      "image/png": "[encoded data removed]",
      "text/plain": [
       "<matplotlib.figure.Figure at 0x118388ef0>"
      ]
     },
     "metadata": {},
     "output_type": "display_data"
    }
   ],
   "source": [
    "# Creates dataframe of Bitcoin Cash Apathy Index (BCAI)\n",
    "\n",
    "handleNameDict = pickle.load(open(\"handleNamePair.pickle\", \"rb\"))\n",
    "\n",
    "# Builds Bitcoin Cash Apathy Index (BCAI): [Name, number of btc/bch mentions, apathy index value (0 to 1)]\n",
    "BCAI = []\n",
    "for name in handleNameDict:\n",
    "    df = pd.read_csv(\"./Tweets/\"+str(handleNameDict[name])+\"_tweets.csv\")\n",
    "    userData = bchApathyIndex(name, df)\n",
    "    BCAI.append(userData)\n",
    "\n",
    "# Creates dataframe with columns: Name|Total Mentions (of bitcoin cash)|(BCAI) Score (0 to 1)\n",
    "BCAI = pd.DataFrame(BCAI)\n",
    "BCAI = BCAI.rename(columns={0:\"Name\", 1:\"Total Mentions\", 2:\"Score\"})\n",
    "\n",
    "# Plots \"Score vs Num. Mentions\"\n",
    "#plt.scatter(BCAI[\"Total Mentions\"], BCAI[\"Score\"])"
   ]
  },
  {
   "cell_type": "code",
   "execution_count": null,
   "metadata": {
    "collapsed": true
   },
   "outputs": [],
   "source": [
    "def searchTweets(keyword, df):\n",
    "    counter = 0\n",
    "    for i in df[\"text\"]:\n",
    "        if keyword in i.lower():\n",
    "            bitcoinCashCounter+=1\n",
    "        elif bitcoinCashsearch2 in i.lower():\n",
    "            bitcoinCashCounter+=1\n",
    "        elif bcashSearch3 in i.lower():\n",
    "            bcashCounter+=1\n",
    "\n",
    "handleNameDict = pickle.load(open(\"handleNamePair.pickle\", \"rb\"))\n",
    "for name in handleNameDict:\n",
    "    df = pd.read_csv(\"./Tweets/\"+str(handleNameDict[name])+\"_tweets.csv\")"
   ]
  }
 ],
 "metadata": {
  "kernelspec": {
   "display_name": "Python 3",
   "language": "python",
   "name": "python3"
  },
  "language_info": {
   "codemirror_mode": {
    "name": "ipython",
    "version": 3
   },
   "file_extension": ".py",
   "mimetype": "text/x-python",
   "name": "python",
   "nbconvert_exporter": "python",
   "pygments_lexer": "ipython3",
   "version": "3.6.2"
  }
 },
 "nbformat": 4,
 "nbformat_minor": 2
}
